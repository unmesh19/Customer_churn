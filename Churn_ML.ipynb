{
 "cells": [
  {
   "cell_type": "markdown",
   "id": "25e79722",
   "metadata": {},
   "source": [
    "# Importing essential libraries."
   ]
  },
  {
   "cell_type": "code",
   "execution_count": 1,
   "id": "98a500c7",
   "metadata": {},
   "outputs": [],
   "source": [
    "import pandas as pd\n",
    "import seaborn as sns"
   ]
  },
  {
   "cell_type": "markdown",
   "id": "f0859a6e",
   "metadata": {},
   "source": [
    "# Importing and reading CSV-formatted data."
   ]
  },
  {
   "cell_type": "code",
   "execution_count": 2,
   "id": "ac384962",
   "metadata": {},
   "outputs": [
    {
     "data": {
      "text/html": [
       "<div>\n",
       "<style scoped>\n",
       "    .dataframe tbody tr th:only-of-type {\n",
       "        vertical-align: middle;\n",
       "    }\n",
       "\n",
       "    .dataframe tbody tr th {\n",
       "        vertical-align: top;\n",
       "    }\n",
       "\n",
       "    .dataframe thead th {\n",
       "        text-align: right;\n",
       "    }\n",
       "</style>\n",
       "<table border=\"1\" class=\"dataframe\">\n",
       "  <thead>\n",
       "    <tr style=\"text-align: right;\">\n",
       "      <th></th>\n",
       "      <th>customerID</th>\n",
       "      <th>gender</th>\n",
       "      <th>SeniorCitizen</th>\n",
       "      <th>Partner</th>\n",
       "      <th>Dependents</th>\n",
       "      <th>tenure</th>\n",
       "      <th>PhoneService</th>\n",
       "      <th>MultipleLines</th>\n",
       "      <th>InternetService</th>\n",
       "      <th>OnlineSecurity</th>\n",
       "      <th>...</th>\n",
       "      <th>DeviceProtection</th>\n",
       "      <th>TechSupport</th>\n",
       "      <th>StreamingTV</th>\n",
       "      <th>StreamingMovies</th>\n",
       "      <th>Contract</th>\n",
       "      <th>PaperlessBilling</th>\n",
       "      <th>PaymentMethod</th>\n",
       "      <th>MonthlyCharges</th>\n",
       "      <th>TotalCharges</th>\n",
       "      <th>Churn</th>\n",
       "    </tr>\n",
       "  </thead>\n",
       "  <tbody>\n",
       "    <tr>\n",
       "      <th>0</th>\n",
       "      <td>7590-VHVEG</td>\n",
       "      <td>Female</td>\n",
       "      <td>0</td>\n",
       "      <td>Yes</td>\n",
       "      <td>No</td>\n",
       "      <td>1</td>\n",
       "      <td>No</td>\n",
       "      <td>No phone service</td>\n",
       "      <td>DSL</td>\n",
       "      <td>No</td>\n",
       "      <td>...</td>\n",
       "      <td>No</td>\n",
       "      <td>No</td>\n",
       "      <td>No</td>\n",
       "      <td>No</td>\n",
       "      <td>Month-to-month</td>\n",
       "      <td>Yes</td>\n",
       "      <td>Electronic check</td>\n",
       "      <td>29.85</td>\n",
       "      <td>29.85</td>\n",
       "      <td>No</td>\n",
       "    </tr>\n",
       "    <tr>\n",
       "      <th>1</th>\n",
       "      <td>5575-GNVDE</td>\n",
       "      <td>Male</td>\n",
       "      <td>0</td>\n",
       "      <td>No</td>\n",
       "      <td>No</td>\n",
       "      <td>34</td>\n",
       "      <td>Yes</td>\n",
       "      <td>No</td>\n",
       "      <td>DSL</td>\n",
       "      <td>Yes</td>\n",
       "      <td>...</td>\n",
       "      <td>Yes</td>\n",
       "      <td>No</td>\n",
       "      <td>No</td>\n",
       "      <td>No</td>\n",
       "      <td>One year</td>\n",
       "      <td>No</td>\n",
       "      <td>Mailed check</td>\n",
       "      <td>56.95</td>\n",
       "      <td>1889.5</td>\n",
       "      <td>No</td>\n",
       "    </tr>\n",
       "    <tr>\n",
       "      <th>2</th>\n",
       "      <td>3668-QPYBK</td>\n",
       "      <td>Male</td>\n",
       "      <td>0</td>\n",
       "      <td>No</td>\n",
       "      <td>No</td>\n",
       "      <td>2</td>\n",
       "      <td>Yes</td>\n",
       "      <td>No</td>\n",
       "      <td>DSL</td>\n",
       "      <td>Yes</td>\n",
       "      <td>...</td>\n",
       "      <td>No</td>\n",
       "      <td>No</td>\n",
       "      <td>No</td>\n",
       "      <td>No</td>\n",
       "      <td>Month-to-month</td>\n",
       "      <td>Yes</td>\n",
       "      <td>Mailed check</td>\n",
       "      <td>53.85</td>\n",
       "      <td>108.15</td>\n",
       "      <td>Yes</td>\n",
       "    </tr>\n",
       "    <tr>\n",
       "      <th>3</th>\n",
       "      <td>7795-CFOCW</td>\n",
       "      <td>Male</td>\n",
       "      <td>0</td>\n",
       "      <td>No</td>\n",
       "      <td>No</td>\n",
       "      <td>45</td>\n",
       "      <td>No</td>\n",
       "      <td>No phone service</td>\n",
       "      <td>DSL</td>\n",
       "      <td>Yes</td>\n",
       "      <td>...</td>\n",
       "      <td>Yes</td>\n",
       "      <td>Yes</td>\n",
       "      <td>No</td>\n",
       "      <td>No</td>\n",
       "      <td>One year</td>\n",
       "      <td>No</td>\n",
       "      <td>Bank transfer (automatic)</td>\n",
       "      <td>42.30</td>\n",
       "      <td>1840.75</td>\n",
       "      <td>No</td>\n",
       "    </tr>\n",
       "    <tr>\n",
       "      <th>4</th>\n",
       "      <td>9237-HQITU</td>\n",
       "      <td>Female</td>\n",
       "      <td>0</td>\n",
       "      <td>No</td>\n",
       "      <td>No</td>\n",
       "      <td>2</td>\n",
       "      <td>Yes</td>\n",
       "      <td>No</td>\n",
       "      <td>Fiber optic</td>\n",
       "      <td>No</td>\n",
       "      <td>...</td>\n",
       "      <td>No</td>\n",
       "      <td>No</td>\n",
       "      <td>No</td>\n",
       "      <td>No</td>\n",
       "      <td>Month-to-month</td>\n",
       "      <td>Yes</td>\n",
       "      <td>Electronic check</td>\n",
       "      <td>70.70</td>\n",
       "      <td>151.65</td>\n",
       "      <td>Yes</td>\n",
       "    </tr>\n",
       "  </tbody>\n",
       "</table>\n",
       "<p>5 rows × 21 columns</p>\n",
       "</div>"
      ],
      "text/plain": [
       "   customerID  gender  SeniorCitizen Partner Dependents  tenure PhoneService  \\\n",
       "0  7590-VHVEG  Female              0     Yes         No       1           No   \n",
       "1  5575-GNVDE    Male              0      No         No      34          Yes   \n",
       "2  3668-QPYBK    Male              0      No         No       2          Yes   \n",
       "3  7795-CFOCW    Male              0      No         No      45           No   \n",
       "4  9237-HQITU  Female              0      No         No       2          Yes   \n",
       "\n",
       "      MultipleLines InternetService OnlineSecurity  ... DeviceProtection  \\\n",
       "0  No phone service             DSL             No  ...               No   \n",
       "1                No             DSL            Yes  ...              Yes   \n",
       "2                No             DSL            Yes  ...               No   \n",
       "3  No phone service             DSL            Yes  ...              Yes   \n",
       "4                No     Fiber optic             No  ...               No   \n",
       "\n",
       "  TechSupport StreamingTV StreamingMovies        Contract PaperlessBilling  \\\n",
       "0          No          No              No  Month-to-month              Yes   \n",
       "1          No          No              No        One year               No   \n",
       "2          No          No              No  Month-to-month              Yes   \n",
       "3         Yes          No              No        One year               No   \n",
       "4          No          No              No  Month-to-month              Yes   \n",
       "\n",
       "               PaymentMethod MonthlyCharges  TotalCharges Churn  \n",
       "0           Electronic check          29.85         29.85    No  \n",
       "1               Mailed check          56.95        1889.5    No  \n",
       "2               Mailed check          53.85        108.15   Yes  \n",
       "3  Bank transfer (automatic)          42.30       1840.75    No  \n",
       "4           Electronic check          70.70        151.65   Yes  \n",
       "\n",
       "[5 rows x 21 columns]"
      ]
     },
     "execution_count": 2,
     "metadata": {},
     "output_type": "execute_result"
    }
   ],
   "source": [
    "df = pd.read_csv(\"customerchurn.csv\")\n",
    "df.head()"
   ]
  },
  {
   "cell_type": "markdown",
   "id": "4c8f6df4",
   "metadata": {},
   "source": [
    "# Dropping the 'customer id' column."
   ]
  },
  {
   "cell_type": "code",
   "execution_count": 3,
   "id": "b41cc9e3",
   "metadata": {
    "scrolled": true
   },
   "outputs": [
    {
     "name": "stdout",
     "output_type": "stream",
     "text": [
      "<class 'pandas.core.frame.DataFrame'>\n",
      "RangeIndex: 7043 entries, 0 to 7042\n",
      "Data columns (total 20 columns):\n",
      " #   Column            Non-Null Count  Dtype  \n",
      "---  ------            --------------  -----  \n",
      " 0   gender            7043 non-null   object \n",
      " 1   SeniorCitizen     7043 non-null   int64  \n",
      " 2   Partner           7043 non-null   object \n",
      " 3   Dependents        7043 non-null   object \n",
      " 4   tenure            7043 non-null   int64  \n",
      " 5   PhoneService      7043 non-null   object \n",
      " 6   MultipleLines     7043 non-null   object \n",
      " 7   InternetService   7043 non-null   object \n",
      " 8   OnlineSecurity    7043 non-null   object \n",
      " 9   OnlineBackup      7043 non-null   object \n",
      " 10  DeviceProtection  7043 non-null   object \n",
      " 11  TechSupport       7043 non-null   object \n",
      " 12  StreamingTV       7043 non-null   object \n",
      " 13  StreamingMovies   7043 non-null   object \n",
      " 14  Contract          7043 non-null   object \n",
      " 15  PaperlessBilling  7043 non-null   object \n",
      " 16  PaymentMethod     7043 non-null   object \n",
      " 17  MonthlyCharges    7043 non-null   float64\n",
      " 18  TotalCharges      7043 non-null   object \n",
      " 19  Churn             7043 non-null   object \n",
      "dtypes: float64(1), int64(2), object(17)\n",
      "memory usage: 1.1+ MB\n"
     ]
    }
   ],
   "source": [
    "df.drop(\"customerID\", axis = 1, inplace = True)\n",
    "df.info()"
   ]
  },
  {
   "cell_type": "markdown",
   "id": "e8c34b9b",
   "metadata": {},
   "source": [
    "# Converting 'TotalCharges' column to numeric, handling errors with coercion."
   ]
  },
  {
   "cell_type": "code",
   "execution_count": 4,
   "id": "9c9d4769",
   "metadata": {},
   "outputs": [
    {
     "name": "stdout",
     "output_type": "stream",
     "text": [
      "<class 'pandas.core.frame.DataFrame'>\n",
      "RangeIndex: 7043 entries, 0 to 7042\n",
      "Data columns (total 20 columns):\n",
      " #   Column            Non-Null Count  Dtype  \n",
      "---  ------            --------------  -----  \n",
      " 0   gender            7043 non-null   object \n",
      " 1   SeniorCitizen     7043 non-null   int64  \n",
      " 2   Partner           7043 non-null   object \n",
      " 3   Dependents        7043 non-null   object \n",
      " 4   tenure            7043 non-null   int64  \n",
      " 5   PhoneService      7043 non-null   object \n",
      " 6   MultipleLines     7043 non-null   object \n",
      " 7   InternetService   7043 non-null   object \n",
      " 8   OnlineSecurity    7043 non-null   object \n",
      " 9   OnlineBackup      7043 non-null   object \n",
      " 10  DeviceProtection  7043 non-null   object \n",
      " 11  TechSupport       7043 non-null   object \n",
      " 12  StreamingTV       7043 non-null   object \n",
      " 13  StreamingMovies   7043 non-null   object \n",
      " 14  Contract          7043 non-null   object \n",
      " 15  PaperlessBilling  7043 non-null   object \n",
      " 16  PaymentMethod     7043 non-null   object \n",
      " 17  MonthlyCharges    7043 non-null   float64\n",
      " 18  TotalCharges      7032 non-null   float64\n",
      " 19  Churn             7043 non-null   object \n",
      "dtypes: float64(2), int64(2), object(16)\n",
      "memory usage: 1.1+ MB\n"
     ]
    }
   ],
   "source": [
    "df['TotalCharges'] = pd.to_numeric(df['TotalCharges'], errors='coerce')\n",
    "df.info()"
   ]
  },
  {
   "cell_type": "markdown",
   "id": "ff735168",
   "metadata": {},
   "source": [
    "# Filling missing data, converting categorical strings to numbers, and creating dummy variables for 'InternetService,' 'Contract,' and 'PaymentMethod' columns."
   ]
  },
  {
   "cell_type": "code",
   "execution_count": 5,
   "id": "072c53c3",
   "metadata": {},
   "outputs": [],
   "source": [
    "df = df.fillna(0)"
   ]
  },
  {
   "cell_type": "code",
   "execution_count": 6,
   "id": "8e3c2603",
   "metadata": {},
   "outputs": [],
   "source": [
    "df.replace({'No phone service':\"No\", 'No internet service':\"No\"},inplace=True)"
   ]
  },
  {
   "cell_type": "code",
   "execution_count": 7,
   "id": "716e3f18",
   "metadata": {},
   "outputs": [],
   "source": [
    "df.replace({'No':0, 'Yes':1},inplace=True)"
   ]
  },
  {
   "cell_type": "code",
   "execution_count": 8,
   "id": "071d70d1",
   "metadata": {},
   "outputs": [],
   "source": [
    "df.replace({'Male':0, 'Female':1},inplace=True)"
   ]
  },
  {
   "cell_type": "code",
   "execution_count": 9,
   "id": "fa719cfb",
   "metadata": {},
   "outputs": [],
   "source": [
    "df = pd.get_dummies(data = df , columns = [\"InternetService\",\"Contract\",\"PaymentMethod\"], drop_first = True)"
   ]
  },
  {
   "cell_type": "code",
   "execution_count": 10,
   "id": "64d323ba",
   "metadata": {
    "scrolled": true
   },
   "outputs": [
    {
     "name": "stdout",
     "output_type": "stream",
     "text": [
      "<class 'pandas.core.frame.DataFrame'>\n",
      "RangeIndex: 7043 entries, 0 to 7042\n",
      "Data columns (total 24 columns):\n",
      " #   Column                                 Non-Null Count  Dtype  \n",
      "---  ------                                 --------------  -----  \n",
      " 0   gender                                 7043 non-null   int64  \n",
      " 1   SeniorCitizen                          7043 non-null   int64  \n",
      " 2   Partner                                7043 non-null   int64  \n",
      " 3   Dependents                             7043 non-null   int64  \n",
      " 4   tenure                                 7043 non-null   int64  \n",
      " 5   PhoneService                           7043 non-null   int64  \n",
      " 6   MultipleLines                          7043 non-null   int64  \n",
      " 7   OnlineSecurity                         7043 non-null   int64  \n",
      " 8   OnlineBackup                           7043 non-null   int64  \n",
      " 9   DeviceProtection                       7043 non-null   int64  \n",
      " 10  TechSupport                            7043 non-null   int64  \n",
      " 11  StreamingTV                            7043 non-null   int64  \n",
      " 12  StreamingMovies                        7043 non-null   int64  \n",
      " 13  PaperlessBilling                       7043 non-null   int64  \n",
      " 14  MonthlyCharges                         7043 non-null   float64\n",
      " 15  TotalCharges                           7043 non-null   float64\n",
      " 16  Churn                                  7043 non-null   int64  \n",
      " 17  InternetService_DSL                    7043 non-null   uint8  \n",
      " 18  InternetService_Fiber optic            7043 non-null   uint8  \n",
      " 19  Contract_One year                      7043 non-null   uint8  \n",
      " 20  Contract_Two year                      7043 non-null   uint8  \n",
      " 21  PaymentMethod_Credit card (automatic)  7043 non-null   uint8  \n",
      " 22  PaymentMethod_Electronic check         7043 non-null   uint8  \n",
      " 23  PaymentMethod_Mailed check             7043 non-null   uint8  \n",
      "dtypes: float64(2), int64(15), uint8(7)\n",
      "memory usage: 983.7 KB\n"
     ]
    }
   ],
   "source": [
    "df.info()"
   ]
  },
  {
   "cell_type": "markdown",
   "id": "a09a34f3",
   "metadata": {},
   "source": [
    "# from sklearn.model_selection import train_test_split"
   ]
  },
  {
   "cell_type": "code",
   "execution_count": 11,
   "id": "b36af493",
   "metadata": {},
   "outputs": [],
   "source": [
    "X = df.drop(\"Churn\", axis = True)\n",
    "y = df.Churn"
   ]
  },
  {
   "cell_type": "code",
   "execution_count": 12,
   "id": "ce5043e6",
   "metadata": {},
   "outputs": [],
   "source": [
    "from sklearn.model_selection import train_test_split"
   ]
  },
  {
   "cell_type": "code",
   "execution_count": 13,
   "id": "971dc451",
   "metadata": {},
   "outputs": [],
   "source": [
    "X_train, X_test, y_train, y_test = train_test_split(X, y, test_size=0.20, random_state=42)"
   ]
  },
  {
   "cell_type": "markdown",
   "id": "1f53bec2",
   "metadata": {},
   "source": [
    "# Training a Logistic Regression model with a maximum iteration of 100,000. Evaluating the model's accuracy on the test set and generating predictions."
   ]
  },
  {
   "cell_type": "code",
   "execution_count": 14,
   "id": "79c0d751",
   "metadata": {},
   "outputs": [],
   "source": [
    "from sklearn.linear_model import LogisticRegression"
   ]
  },
  {
   "cell_type": "code",
   "execution_count": 15,
   "id": "091ea010",
   "metadata": {},
   "outputs": [
    {
     "data": {
      "text/plain": [
       "0.8197303051809794"
      ]
     },
     "execution_count": 15,
     "metadata": {},
     "output_type": "execute_result"
    }
   ],
   "source": [
    "lr = LogisticRegression(max_iter=100000)\n",
    "lr.fit(X_train, y_train)\n",
    "lr.score(X_test, y_test)"
   ]
  },
  {
   "cell_type": "code",
   "execution_count": 16,
   "id": "ea6467f7",
   "metadata": {},
   "outputs": [
    {
     "data": {
      "text/plain": [
       "array([0, 0, 1, ..., 0, 1, 0], dtype=int64)"
      ]
     },
     "execution_count": 16,
     "metadata": {},
     "output_type": "execute_result"
    }
   ],
   "source": [
    "y_pred = lr.predict(X_train)\n",
    "y_pred"
   ]
  },
  {
   "cell_type": "markdown",
   "id": "ed09d97e",
   "metadata": {},
   "source": [
    "# Utilizing a confusion matrix to assess the performance of the model."
   ]
  },
  {
   "cell_type": "code",
   "execution_count": 17,
   "id": "644320ba",
   "metadata": {},
   "outputs": [],
   "source": [
    "from sklearn.metrics import confusion_matrix"
   ]
  },
  {
   "cell_type": "code",
   "execution_count": 18,
   "id": "e5af6087",
   "metadata": {},
   "outputs": [],
   "source": [
    "cf = confusion_matrix(y_train, y_pred)"
   ]
  },
  {
   "cell_type": "code",
   "execution_count": 19,
   "id": "68072a5a",
   "metadata": {},
   "outputs": [
    {
     "data": {
      "text/plain": [
       "<Axes: >"
      ]
     },
     "execution_count": 19,
     "metadata": {},
     "output_type": "execute_result"
    },
    {
     "data": {
      "image/png": "[encoded data removed]",
      "text/plain": [
       "<Figure size 640x480 with 2 Axes>"
      ]
     },
     "metadata": {},
     "output_type": "display_data"
    }
   ],
   "source": [
    "sns.heatmap(cf ,annot=True, fmt = 'd') "
   ]
  },
  {
   "cell_type": "code",
   "execution_count": 20,
   "id": "7054673a",
   "metadata": {},
   "outputs": [],
   "source": [
    "df0 = df[df[\"Churn\"]==0]\n",
    "df1 = df[df[\"Churn\"]==1]"
   ]
  },
  {
   "cell_type": "code",
   "execution_count": 21,
   "id": "eac78bb7",
   "metadata": {},
   "outputs": [
    {
     "data": {
      "text/plain": [
       "(5174, 24)"
      ]
     },
     "execution_count": 21,
     "metadata": {},
     "output_type": "execute_result"
    }
   ],
   "source": [
    "df0.shape"
   ]
  },
  {
   "cell_type": "code",
   "execution_count": 22,
   "id": "12f716c8",
   "metadata": {},
   "outputs": [
    {
     "data": {
      "text/plain": [
       "(1869, 24)"
      ]
     },
     "execution_count": 22,
     "metadata": {},
     "output_type": "execute_result"
    }
   ],
   "source": [
    "df1.shape"
   ]
  },
  {
   "cell_type": "markdown",
   "id": "f32f5c44",
   "metadata": {},
   "source": [
    "# Observing the shapes indicates an imbalance in the data, with more 'no churn' instances than 'yes churn.' To address this, two methods for maximizing accuracy will be explored."
   ]
  },
  {
   "cell_type": "markdown",
   "id": "0b852b0f",
   "metadata": {},
   "source": [
    "# Balancing the data by reducing the number of 'no churn' instances to match the count of 'yes churn'."
   ]
  },
  {
   "cell_type": "code",
   "execution_count": 23,
   "id": "3ba55fd4",
   "metadata": {},
   "outputs": [],
   "source": [
    "reduced = df0.sample(df1.shape[0])"
   ]
  },
  {
   "cell_type": "code",
   "execution_count": 24,
   "id": "e3c74975",
   "metadata": {},
   "outputs": [],
   "source": [
    "low = pd.concat([reduced,df1])"
   ]
  },
  {
   "cell_type": "code",
   "execution_count": 25,
   "id": "0487f77c",
   "metadata": {},
   "outputs": [],
   "source": [
    "X_low = low.drop(\"Churn\", axis = 1)\n",
    "y_low = low.Churn"
   ]
  },
  {
   "cell_type": "code",
   "execution_count": 26,
   "id": "5d081919",
   "metadata": {},
   "outputs": [],
   "source": [
    "X_low_train, X_low_test, y_low_train, y_low_test = train_test_split(X_low, y_low, test_size=0.20, random_state=42)"
   ]
  },
  {
   "cell_type": "code",
   "execution_count": 27,
   "id": "9ed58cda",
   "metadata": {},
   "outputs": [
    {
     "data": {
      "text/plain": [
       "0.7580213903743316"
      ]
     },
     "execution_count": 27,
     "metadata": {},
     "output_type": "execute_result"
    }
   ],
   "source": [
    "lr.fit(X_low_train, y_low_train)\n",
    "lr.score(X_low_test, y_low_test)"
   ]
  },
  {
   "cell_type": "code",
   "execution_count": 28,
   "id": "049f2a6f",
   "metadata": {},
   "outputs": [
    {
     "data": {
      "text/plain": [
       "array([0, 1, 1, ..., 1, 1, 1], dtype=int64)"
      ]
     },
     "execution_count": 28,
     "metadata": {},
     "output_type": "execute_result"
    }
   ],
   "source": [
    "y_low_pred = lr.predict(X_low_train)\n",
    "y_low_pred"
   ]
  },
  {
   "cell_type": "code",
   "execution_count": 29,
   "id": "ac6e316b",
   "metadata": {
    "scrolled": true
   },
   "outputs": [
    {
     "data": {
      "text/plain": [
       "<Axes: >"
      ]
     },
     "execution_count": 29,
     "metadata": {},
     "output_type": "execute_result"
    },
    {
     "data": {
      "image/png": "[encoded data removed]",
      "text/plain": [
       "<Figure size 640x480 with 2 Axes>"
      ]
     },
     "metadata": {},
     "output_type": "display_data"
    }
   ],
   "source": [
    "cf1 = confusion_matrix(y_low_train, y_low_pred)\n",
    "sns.heatmap(cf1 ,annot=True, fmt = 'd')"
   ]
  },
  {
   "cell_type": "markdown",
   "id": "09efc300",
   "metadata": {},
   "source": [
    "# As reducing data affected accuracy negatively, the second method involves creating more instances of 'yes churn' by duplicating the existing 'yes churn' instances."
   ]
  },
  {
   "cell_type": "code",
   "execution_count": 30,
   "id": "54b71d2d",
   "metadata": {},
   "outputs": [],
   "source": [
    "increased = df1.sample(df0.shape[0], replace = True)"
   ]
  },
  {
   "cell_type": "code",
   "execution_count": 31,
   "id": "a3708d8f",
   "metadata": {},
   "outputs": [],
   "source": [
    "high = pd.concat([increased,df0])"
   ]
  },
  {
   "cell_type": "code",
   "execution_count": 32,
   "id": "e31fbf95",
   "metadata": {},
   "outputs": [],
   "source": [
    "X_high = high.drop(\"Churn\", axis = 1)\n",
    "y_high = high.Churn"
   ]
  },
  {
   "cell_type": "code",
   "execution_count": 33,
   "id": "4c2a877b",
   "metadata": {},
   "outputs": [],
   "source": [
    "X_high_train, X_high_test, y_high_train, y_high_test = train_test_split(X_high, y_high, test_size=0.20, random_state=42)"
   ]
  },
  {
   "cell_type": "code",
   "execution_count": 34,
   "id": "c6ca9738",
   "metadata": {},
   "outputs": [
    {
     "data": {
      "text/plain": [
       "0.7642512077294686"
      ]
     },
     "execution_count": 34,
     "metadata": {},
     "output_type": "execute_result"
    }
   ],
   "source": [
    "lr.fit(X_high_train, y_high_train)\n",
    "lr.score(X_high_test, y_high_test)"
   ]
  },
  {
   "cell_type": "code",
   "execution_count": 35,
   "id": "05edeedc",
   "metadata": {},
   "outputs": [
    {
     "data": {
      "text/plain": [
       "array([1, 1, 0, ..., 0, 1, 0], dtype=int64)"
      ]
     },
     "execution_count": 35,
     "metadata": {},
     "output_type": "execute_result"
    }
   ],
   "source": [
    "y_high_pred = lr.predict(X_high_train)\n",
    "y_high_pred"
   ]
  },
  {
   "cell_type": "code",
   "execution_count": 36,
   "id": "1bba3bba",
   "metadata": {},
   "outputs": [
    {
     "data": {
      "text/plain": [
       "<Axes: >"
      ]
     },
     "execution_count": 36,
     "metadata": {},
     "output_type": "execute_result"
    },
    {
     "data": {
      "image/png": "[encoded data removed]",
      "text/plain": [
       "<Figure size 640x480 with 2 Axes>"
      ]
     },
     "metadata": {},
     "output_type": "display_data"
    }
   ],
   "source": [
    "cf2 = confusion_matrix(y_high_train, y_high_pred)\n",
    "sns.heatmap(cf2 ,annot=True, fmt = 'd')"
   ]
  },
  {
   "cell_type": "markdown",
   "id": "df58982e",
   "metadata": {},
   "source": [
    "# Despite trying two techniques, neither proved highly effective. Consequently, given the limited impact on improving accuracy, the imbalance in the data may not significantly affect the results."
   ]
  }
 ],
 "metadata": {
  "kernelspec": {
   "display_name": "Python 3 (ipykernel)",
   "language": "python",
   "name": "python3"
  },
  "language_info": {
   "codemirror_mode": {
    "name": "ipython",
    "version": 3
   },
   "file_extension": ".py",
   "mimetype": "text/x-python",
   "name": "python",
   "nbconvert_exporter": "python",
   "pygments_lexer": "ipython3",
   "version": "3.11.4"
  }
 },
 "nbformat": 4,
 "nbformat_minor": 5
}
